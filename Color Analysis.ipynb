{
 "cells": [
  {
   "cell_type": "code",
   "execution_count": 6,
   "id": "6c870f05",
   "metadata": {},
   "outputs": [
    {
     "name": "stdout",
     "output_type": "stream",
     "text": [
      "\n",
      "🎨 Welcome to the Ultimate Personalized Style Finder! 🎨\n",
      "Enter your Skin Tone (Undertone) (Warm/Cool/Neutral): Warm\n",
      "Enter your Skin Color (Fair/Golden/Porcelain/Olive/Honey): Golden\n",
      "Enter your Hair Color (Blonde/Dark Brown/Black/Red): Blonde\n",
      "Enter your Eye Color (Blue/Green/Dark Brown/Hazel): Green\n",
      "Enter your Personality (Bold/Classic/Earthy/Soft Romantic): Classic\n",
      "Enter your Exclusive Color Group Name (e.g., Earthy Espresso, Celestial Sapphire): Celestial Sapphire\n",
      "Enter your Style in One Word (Classic/Minimalist/Bold & Expressive/Relaxed & Effortless): Relaxed & Effortless\n",
      "\n",
      "✨ Here’s your personalized style recommendation! ✨\n",
      "\n",
      "👉 **Style Persona:** The Regal Visionary\n",
      "👉 **Best Occasions for This Color:** Looking crisp and fresh for business-casual settings.\n",
      "👉 **Power Statement:** A showstopper that exudes confidence and creativity.\n",
      "👉 **Suggested Shirt Colors:** Flax, Mango, Maroon\n",
      "👉 **Suggested Pant Colors:** Mustard, Zeste, Cielo Blue\n",
      "👉 **Top Clothing Priority:** Looking polished and put-together\n",
      "👉 **Celebrity Wardrobe Inspiration:** Ryan Gosling – classic and cool\n",
      "\n",
      "-----------------------------------\n",
      "\n"
     ]
    }
   ],
   "source": [
    "import pandas as pd\n",
    "\n",
    "# Load the optimized CSV file\n",
    "csv_file = \"demography_all_possible_combinations.csv\"  # Update with the correct file path if needed\n",
    "df = pd.read_csv(csv_file)\n",
    "\n",
    "# Function to get style recommendations based on user input\n",
    "def get_style_recommendations():\n",
    "    print(\"\\n🎨 Welcome to the Ultimate Personalized Style Finder! 🎨\")\n",
    "    \n",
    "    # Getting user input\n",
    "    skin_tone = input(\"Enter your Skin Tone (Undertone) (Warm/Cool/Neutral): \").strip()\n",
    "    skin_color = input(\"Enter your Skin Color (Fair/Golden/Porcelain/Olive/Honey): \").strip()\n",
    "    hair_color = input(\"Enter your Hair Color (Blonde/Dark Brown/Black/Red): \").strip()\n",
    "    eye_color = input(\"Enter your Eye Color (Blue/Green/Dark Brown/Hazel): \").strip()\n",
    "    personality = input(\"Enter your Personality (Bold/Classic/Earthy/Soft Romantic): \").strip()\n",
    "    color_group = input(\"Enter your Exclusive Color Group Name (e.g., Earthy Espresso, Celestial Sapphire): \").strip()\n",
    "    style_word = input(\"Enter your Style in One Word (Classic/Minimalist/Bold & Expressive/Relaxed & Effortless): \").strip()\n",
    "\n",
    "    # Filtering the dataset based on user input\n",
    "    filtered_df = df[\n",
    "        (df[\"Skin Tone\"].str.lower() == skin_tone.lower()) &\n",
    "        (df[\"Skin Color\"].str.lower() == skin_color.lower()) &\n",
    "        (df[\"Hair Color\"].str.lower() == hair_color.lower()) &\n",
    "        (df[\"Eye Color\"].str.lower() == eye_color.lower()) &\n",
    "        (df[\"Personality\"].str.lower() == personality.lower()) &\n",
    "        (df[\"Exclusive Color Group Name\"].str.lower() == color_group.lower()) &\n",
    "        (df[\"Style in One Word\"].str.lower() == style_word.lower())\n",
    "    ]\n",
    "\n",
    "    # Display results\n",
    "    if not filtered_df.empty:\n",
    "        print(\"\\n✨ Here’s your personalized style recommendation! ✨\\n\")\n",
    "        for index, row in filtered_df.iterrows():\n",
    "            print(f\"👉 **Style Persona:** {row['Style Persona']}\")\n",
    "            print(f\"👉 **Best Occasions for This Color:** {row['Best Occasions for This Color']}\")\n",
    "            print(f\"👉 **Power Statement:** {row['Power Statement']}\")\n",
    "            print(f\"👉 **Suggested Shirt Colors:** {row['Suggested Shirt Colors']}\")\n",
    "            print(f\"👉 **Suggested Pant Colors:** {row['Suggested Pant Colors']}\")\n",
    "            print(f\"👉 **Top Clothing Priority:** {row['Top Clothing Priority']}\")\n",
    "            print(f\"👉 **Celebrity Wardrobe Inspiration:** {row['Celebrity Wardrobe Inspiration']}\")\n",
    "            print(\"\\n-----------------------------------\\n\")\n",
    "    else:\n",
    "        print(\"\\n😕 No exact match found! Try adjusting your input for a closer match.\")\n",
    "\n",
    "# Run the function\n",
    "get_style_recommendations()"
   ]
  },
  {
   "cell_type": "code",
   "execution_count": null,
   "id": "b713198d",
   "metadata": {},
   "outputs": [],
   "source": []
  }
 ],
 "metadata": {
  "kernelspec": {
   "display_name": "Python 3 (ipykernel)",
   "language": "python",
   "name": "python3"
  },
  "language_info": {
   "codemirror_mode": {
    "name": "ipython",
    "version": 3
   },
   "file_extension": ".py",
   "mimetype": "text/x-python",
   "name": "python",
   "nbconvert_exporter": "python",
   "pygments_lexer": "ipython3",
   "version": "3.12.7"
  }
 },
 "nbformat": 4,
 "nbformat_minor": 5
}
